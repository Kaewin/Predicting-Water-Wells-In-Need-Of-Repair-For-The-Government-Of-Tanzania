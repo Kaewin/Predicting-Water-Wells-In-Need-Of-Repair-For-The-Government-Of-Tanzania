{
 "cells": [
  {
   "cell_type": "code",
   "execution_count": 30,
   "metadata": {},
   "outputs": [],
   "source": [
    "import pandas as pd\n",
    "import numpy as np\n",
    "import matplotlib.pyplot as plt\n",
    "import seaborn as sns\n",
    "%matplotlib inline"
   ]
  },
  {
   "cell_type": "code",
   "execution_count": 31,
   "metadata": {},
   "outputs": [],
   "source": [
    "df_train_target = pd.read_csv('./Data/training_set_labels.csv')\n",
    "df_train_data = pd.read_csv('./Data/training_set_values.csv')"
   ]
  },
  {
   "cell_type": "code",
   "execution_count": 32,
   "metadata": {},
   "outputs": [
    {
     "data": {
      "text/plain": [
       "functional        32259\n",
       "non-functional    27141\n",
       "Name: status_group, dtype: int64"
      ]
     },
     "execution_count": 32,
     "metadata": {},
     "output_type": "execute_result"
    }
   ],
   "source": [
    "# Change the name of the status_group in df_train_target 'functional needs repair' to 'non-functional'\n",
    "# Also change the name of 'non functional' to non-functional\n",
    "df_train_target['status_group'] = df_train_target['status_group'].replace('functional needs repair', 'non functional')\n",
    "df_train_target['status_group'] = df_train_target['status_group'].replace('non functional', 'non-functional')\n",
    "\n",
    "# Check\n",
    "df_train_target['status_group'].value_counts()"
   ]
  },
  {
   "cell_type": "code",
   "execution_count": 40,
   "metadata": {},
   "outputs": [
    {
     "data": {
      "text/plain": [
       "0    0.543081\n",
       "1    0.456919\n",
       "Name: status_group, dtype: float64"
      ]
     },
     "execution_count": 40,
     "metadata": {},
     "output_type": "execute_result"
    }
   ],
   "source": [
    "# encode status_group as 0, 1\n",
    "df_train_target['status_group'] = df_train_target['status_group'].astype('category')\n",
    "df_train_target['status_group'] = df_train_target['status_group'].cat.codes\n",
    "df_train_target['status_group'].value_counts(normalize=True)"
   ]
  },
  {
   "cell_type": "code",
   "execution_count": 34,
   "metadata": {},
   "outputs": [],
   "source": [
    "# split df_train_data into numeric and categorical\n",
    "df_train_data_numeric = df_train_data.select_dtypes(include=['int64', 'float64'])\n",
    "df_train_data_categorical = df_train_data.select_dtypes(include=['object'])"
   ]
  },
  {
   "cell_type": "code",
   "execution_count": 35,
   "metadata": {},
   "outputs": [
    {
     "name": "stdout",
     "output_type": "stream",
     "text": [
      "Number of columns in original df_train_data:  40\n"
     ]
    }
   ],
   "source": [
    "# How many columns did we have originally?\n",
    "print('Number of columns in original df_train_data: ', len(df_train_data.columns))"
   ]
  },
  {
   "attachments": {},
   "cell_type": "markdown",
   "metadata": {},
   "source": [
    "Gonna chuck everything in and see what I get.\n",
    "\n",
    "Yeah this is going to take a while."
   ]
  },
  {
   "cell_type": "code",
   "execution_count": 36,
   "metadata": {},
   "outputs": [],
   "source": [
    "# Encode the categorical data\n",
    "df_train_data_categorical = pd.get_dummies(df_train_data_categorical)"
   ]
  },
  {
   "cell_type": "code",
   "execution_count": 37,
   "metadata": {},
   "outputs": [
    {
     "data": {
      "text/html": [
       "<div>\n",
       "<style scoped>\n",
       "    .dataframe tbody tr th:only-of-type {\n",
       "        vertical-align: middle;\n",
       "    }\n",
       "\n",
       "    .dataframe tbody tr th {\n",
       "        vertical-align: top;\n",
       "    }\n",
       "\n",
       "    .dataframe thead th {\n",
       "        text-align: right;\n",
       "    }\n",
       "</style>\n",
       "<table border=\"1\" class=\"dataframe\">\n",
       "  <thead>\n",
       "    <tr style=\"text-align: right;\">\n",
       "      <th></th>\n",
       "      <th>0</th>\n",
       "      <th>1</th>\n",
       "      <th>2</th>\n",
       "      <th>3</th>\n",
       "      <th>4</th>\n",
       "    </tr>\n",
       "  </thead>\n",
       "  <tbody>\n",
       "    <tr>\n",
       "      <th>id</th>\n",
       "      <td>1.512933</td>\n",
       "      <td>-1.320990</td>\n",
       "      <td>-0.130757</td>\n",
       "      <td>1.427676</td>\n",
       "      <td>-0.810478</td>\n",
       "    </tr>\n",
       "    <tr>\n",
       "      <th>amount_tsh</th>\n",
       "      <td>1.895665</td>\n",
       "      <td>-0.105970</td>\n",
       "      <td>-0.097630</td>\n",
       "      <td>-0.105970</td>\n",
       "      <td>-0.105970</td>\n",
       "    </tr>\n",
       "    <tr>\n",
       "      <th>gps_height</th>\n",
       "      <td>1.041252</td>\n",
       "      <td>1.054237</td>\n",
       "      <td>0.025541</td>\n",
       "      <td>-0.584751</td>\n",
       "      <td>-0.964200</td>\n",
       "    </tr>\n",
       "    <tr>\n",
       "      <th>longitude</th>\n",
       "      <td>0.131052</td>\n",
       "      <td>0.094610</td>\n",
       "      <td>0.515158</td>\n",
       "      <td>0.671308</td>\n",
       "      <td>-0.448669</td>\n",
       "    </tr>\n",
       "    <tr>\n",
       "      <th>latitude</th>\n",
       "      <td>-1.408791</td>\n",
       "      <td>1.207934</td>\n",
       "      <td>0.639751</td>\n",
       "      <td>-1.849720</td>\n",
       "      <td>1.317271</td>\n",
       "    </tr>\n",
       "    <tr>\n",
       "      <th>...</th>\n",
       "      <td>...</td>\n",
       "      <td>...</td>\n",
       "      <td>...</td>\n",
       "      <td>...</td>\n",
       "      <td>...</td>\n",
       "    </tr>\n",
       "    <tr>\n",
       "      <th>waterpoint_type_group_communal standpipe</th>\n",
       "      <td>1.000000</td>\n",
       "      <td>1.000000</td>\n",
       "      <td>1.000000</td>\n",
       "      <td>1.000000</td>\n",
       "      <td>1.000000</td>\n",
       "    </tr>\n",
       "    <tr>\n",
       "      <th>waterpoint_type_group_dam</th>\n",
       "      <td>0.000000</td>\n",
       "      <td>0.000000</td>\n",
       "      <td>0.000000</td>\n",
       "      <td>0.000000</td>\n",
       "      <td>0.000000</td>\n",
       "    </tr>\n",
       "    <tr>\n",
       "      <th>waterpoint_type_group_hand pump</th>\n",
       "      <td>0.000000</td>\n",
       "      <td>0.000000</td>\n",
       "      <td>0.000000</td>\n",
       "      <td>0.000000</td>\n",
       "      <td>0.000000</td>\n",
       "    </tr>\n",
       "    <tr>\n",
       "      <th>waterpoint_type_group_improved spring</th>\n",
       "      <td>0.000000</td>\n",
       "      <td>0.000000</td>\n",
       "      <td>0.000000</td>\n",
       "      <td>0.000000</td>\n",
       "      <td>0.000000</td>\n",
       "    </tr>\n",
       "    <tr>\n",
       "      <th>waterpoint_type_group_other</th>\n",
       "      <td>0.000000</td>\n",
       "      <td>0.000000</td>\n",
       "      <td>0.000000</td>\n",
       "      <td>0.000000</td>\n",
       "      <td>0.000000</td>\n",
       "    </tr>\n",
       "  </tbody>\n",
       "</table>\n",
       "<p>66181 rows × 5 columns</p>\n",
       "</div>"
      ],
      "text/plain": [
       "                                                 0         1         2  \\\n",
       "id                                        1.512933 -1.320990 -0.130757   \n",
       "amount_tsh                                1.895665 -0.105970 -0.097630   \n",
       "gps_height                                1.041252  1.054237  0.025541   \n",
       "longitude                                 0.131052  0.094610  0.515158   \n",
       "latitude                                 -1.408791  1.207934  0.639751   \n",
       "...                                            ...       ...       ...   \n",
       "waterpoint_type_group_communal standpipe  1.000000  1.000000  1.000000   \n",
       "waterpoint_type_group_dam                 0.000000  0.000000  0.000000   \n",
       "waterpoint_type_group_hand pump           0.000000  0.000000  0.000000   \n",
       "waterpoint_type_group_improved spring     0.000000  0.000000  0.000000   \n",
       "waterpoint_type_group_other               0.000000  0.000000  0.000000   \n",
       "\n",
       "                                                 3         4  \n",
       "id                                        1.427676 -0.810478  \n",
       "amount_tsh                               -0.105970 -0.105970  \n",
       "gps_height                               -0.584751 -0.964200  \n",
       "longitude                                 0.671308 -0.448669  \n",
       "latitude                                 -1.849720  1.317271  \n",
       "...                                            ...       ...  \n",
       "waterpoint_type_group_communal standpipe  1.000000  1.000000  \n",
       "waterpoint_type_group_dam                 0.000000  0.000000  \n",
       "waterpoint_type_group_hand pump           0.000000  0.000000  \n",
       "waterpoint_type_group_improved spring     0.000000  0.000000  \n",
       "waterpoint_type_group_other               0.000000  0.000000  \n",
       "\n",
       "[66181 rows x 5 columns]"
      ]
     },
     "execution_count": 37,
     "metadata": {},
     "output_type": "execute_result"
    }
   ],
   "source": [
    "# standardize the numerical data\n",
    "from sklearn.preprocessing import StandardScaler\n",
    "scaler = StandardScaler()\n",
    "df_train_data_numeric_scaled = scaler.fit_transform(df_train_data_numeric)\n",
    "\n",
    "# convert the scaled numerical data into a dataframe\n",
    "df_train_data_numeric_scaled = pd.DataFrame(df_train_data_numeric_scaled, columns=df_train_data_numeric.columns)\n",
    "\n",
    "# combine the scaled numerical data with the categorical data\n",
    "df_train_data = pd.concat([df_train_data_numeric_scaled, df_train_data_categorical], axis=1)\n",
    "\n",
    "# Check\n",
    "df_train_data.head().T"
   ]
  },
  {
   "attachments": {},
   "cell_type": "markdown",
   "metadata": {},
   "source": [
    "And now we have 66181 columns. \n",
    "\n",
    "Insayian. "
   ]
  },
  {
   "cell_type": "code",
   "execution_count": 38,
   "metadata": {},
   "outputs": [
    {
     "name": "stdout",
     "output_type": "stream",
     "text": [
      "X_train shape:  (47520, 66181)\n",
      "X_test shape:  (11880, 66181)\n",
      "y_train shape:  (47520,)\n",
      "y_test shape:  (11880,)\n"
     ]
    }
   ],
   "source": [
    "# Take what I have and split it into train and test and validation\n",
    "from sklearn.model_selection import train_test_split\n",
    "\n",
    "X_train, X_test, y_train, y_test = train_test_split(df_train_data, df_train_target['status_group'], test_size=0.2, random_state=42)\n",
    "\n",
    "# Check\n",
    "print('X_train shape: ', X_train.shape)\n",
    "print('X_test shape: ', X_test.shape)\n",
    "print('y_train shape: ', y_train.shape)\n",
    "print('y_test shape: ', y_test.shape)\n",
    "\n",
    "# The sum of the rows is\n",
    "print('Sum of rows: ', X_train.shape[0] + X_test.shape[0])\n",
    "\n",
    "# The sum of the rows is the same as the number of rows in the original data"
   ]
  },
  {
   "cell_type": "code",
   "execution_count": 39,
   "metadata": {},
   "outputs": [
    {
     "name": "stderr",
     "output_type": "stream",
     "text": [
      "c:\\Anaconda3\\envs\\learn-env\\lib\\site-packages\\sklearn\\linear_model\\_logistic.py:762: ConvergenceWarning: lbfgs failed to converge (status=1):\n",
      "STOP: TOTAL NO. of ITERATIONS REACHED LIMIT.\n",
      "\n",
      "Increase the number of iterations (max_iter) or scale the data as shown in:\n",
      "    https://scikit-learn.org/stable/modules/preprocessing.html\n",
      "Please also refer to the documentation for alternative solver options:\n",
      "    https://scikit-learn.org/stable/modules/linear_model.html#logistic-regression\n",
      "  n_iter_i = _check_optimize_result(\n"
     ]
    },
    {
     "name": "stdout",
     "output_type": "stream",
     "text": [
      "Accuracy of logistic regression classifier on test set: 0.80\n"
     ]
    }
   ],
   "source": [
    "# Feed into logistic regression\n",
    "from sklearn.linear_model import LogisticRegression\n",
    "from sklearn.metrics import accuracy_score\n",
    "\n",
    "logreg = LogisticRegression()\n",
    "logreg.fit(X_train, y_train)\n",
    "y_pred = logreg.predict(X_test)\n",
    "print('Accuracy of logistic regression classifier on test set: {:.2f}'.format(accuracy_score(y_test, y_pred)))"
   ]
  },
  {
   "attachments": {},
   "cell_type": "markdown",
   "metadata": {},
   "source": [
    "Probably a lot easier to just do a baseline with the most common."
   ]
  }
 ],
 "metadata": {
  "kernelspec": {
   "display_name": "learn-env",
   "language": "python",
   "name": "python3"
  },
  "language_info": {
   "codemirror_mode": {
    "name": "ipython",
    "version": 3
   },
   "file_extension": ".py",
   "mimetype": "text/x-python",
   "name": "python",
   "nbconvert_exporter": "python",
   "pygments_lexer": "ipython3",
   "version": "3.8.5"
  },
  "orig_nbformat": 4
 },
 "nbformat": 4,
 "nbformat_minor": 2
}
